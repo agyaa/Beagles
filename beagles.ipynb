{
 "cells": [
  {
   "cell_type": "code",
   "execution_count": 1,
   "metadata": {},
   "outputs": [
    {
     "name": "stdout",
     "output_type": "stream",
     "text": [
      "hello\n"
     ]
    }
   ],
   "source": [
    "print('hello')"
   ]
  },
  {
   "cell_type": "code",
   "execution_count": null,
   "metadata": {},
   "outputs": [],
   "source": [
    "#beagles\n",
    "import random\n",
    "k='pico '\n",
    "d='fermi '\n",
    "print(\"you have to guess a randomly generated number\")\n",
    "print(\"the number will in be in the range of 0-999\")\n",
    "print(\"pico - correct digit in the correct place\")\n",
    "print(\"fermi - correct digit in the wrong place\")\n",
    "print(\"beagles - digit isnt in the number\")\n",
    "print(\"you'll have 10 tries by default, do you wish to change the number to tries you have?\")\n",
    "print(\"1-yes\\n2-no\")\n",
    "q=int(input())\n",
    "w=10\n",
    "if(q==1):\n",
    "  w=int(input(\"enter the number of tries you wish to have \"))\n",
    "print(\"you have {} tries, good luck! :D\".format(w))\n",
    "print()\n",
    "#a three digit number\n",
    "l=[]\n",
    "for i in range(0, 3):\n",
    "  l.append(random.randint(0,9))\n",
    "#print(l)\n",
    "s=l[2]+(10*l[1])+(100*l[0])\n",
    "#print(s)\n",
    "\n",
    "for x in range(1, (w+1)):\n",
    "  p=f=0\n",
    "  g=int(input(\"your guess? \"))\n",
    "  a=g%10\n",
    "  b=(g//10)%10\n",
    "  c=(g//100)%10\n",
    "  h=[c, b, a]\n",
    "  #print(h)\n",
    "  for i in range(1, 4):\n",
    "    if(h[-i] in l):\n",
    "      f=f+1\n",
    "      #print(\"f\", f)\n",
    "      if(h[-i]==l[-i]):\n",
    "        f=f-1\n",
    "        #print(\"f\", f)\n",
    "        p=p+1\n",
    "        #print(\"p\", p)\n",
    "  if(p==0 and f==0):\n",
    "    print(\"beagles\")\n",
    "    if(x==w):\n",
    "      x=(w+1)\n",
    "  else:\n",
    "    #print(k*p+d*f)\n",
    "    if(p!=3):\n",
    "      print(k*p+d*f)\n",
    "      if(x==w):\n",
    "        x=(w+1)\n",
    "    else:\n",
    "      print(\"you've guessed the right number! :D\")\n",
    "      if(x==1):\n",
    "        print(\"it took you only 1 guess! :0 \")\n",
    "      else:\n",
    "        print(\"it took you {} guesses :]\". format(x))\n",
    "      break\n",
    "if(x==(w+1)):\n",
    "  print(\"sorry you could not guess in {} tries :( \".format(w))\n",
    "#print(\"the number is {}\".format(s))\n",
    "print(\"the number is\", s)"
   ]
  }
 ],
 "metadata": {
  "kernelspec": {
   "display_name": "Python 3",
   "language": "python",
   "name": "python3"
  },
  "language_info": {
   "codemirror_mode": {
    "name": "ipython",
    "version": 3
   },
   "file_extension": ".py",
   "mimetype": "text/x-python",
   "name": "python",
   "nbconvert_exporter": "python",
   "pygments_lexer": "ipython3",
   "version": "3.11.4"
  }
 },
 "nbformat": 4,
 "nbformat_minor": 2
}
